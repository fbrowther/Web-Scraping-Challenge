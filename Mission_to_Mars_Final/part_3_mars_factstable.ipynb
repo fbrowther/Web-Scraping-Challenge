{
 "cells": [
  {
   "cell_type": "markdown",
   "metadata": {},
   "source": [
    "# Module 12 Challenge\n",
    "## Deliverable 3: Scrape Mars Facts Table"
   ]
  },
  {
   "cell_type": "code",
   "execution_count": 2,
   "metadata": {},
   "outputs": [],
   "source": [
    "# Import relevant libraries\n",
    "from splinter import Browser\n",
    "from bs4 import BeautifulSoup as bs\n",
    "from webdriver_manager.chrome import ChromeDriverManager\n",
    "import matplotlib.pyplot as plt\n",
    "import pandas as pd\n",
    "import requests"
   ]
  },
  {
   "cell_type": "code",
   "execution_count": 3,
   "metadata": {},
   "outputs": [],
   "source": [
    "executable_path = {'executable_path': ChromeDriverManager().install()}\n",
    "browser = Browser('chrome', **executable_path, headless=False)"
   ]
  },
  {
   "cell_type": "markdown",
   "metadata": {},
   "source": [
    "### Step 1: Visit the Website\n",
    "\n",
    "Visit the Mars Facts webpage (https://galaxyfacts-mars.com) and use Pandas to scrape the table containing facts about the planet including diameter, mass, etc.\n",
    "\n",
    "\n",
    "Use Pandas to convert the data to a HTML table string.\n"
   ]
  },
  {
   "cell_type": "code",
   "execution_count": 4,
   "metadata": {},
   "outputs": [],
   "source": [
    "# Visit the website\n",
    "url = \"https://galaxyfacts-mars.com/\"\n"
   ]
  },
  {
   "cell_type": "code",
   "execution_count": 5,
   "metadata": {},
   "outputs": [],
   "source": [
    "page = requests.get(url)"
   ]
  },
  {
   "cell_type": "code",
   "execution_count": 6,
   "metadata": {},
   "outputs": [
    {
     "data": {
      "text/plain": [
       "200"
      ]
     },
     "execution_count": 6,
     "metadata": {},
     "output_type": "execute_result"
    }
   ],
   "source": [
    "page.status_code"
   ]
  },
  {
   "cell_type": "code",
   "execution_count": 7,
   "metadata": {},
   "outputs": [],
   "source": [
    "browser.visit(url)\n",
    "html = browser.html\n",
    "soup = bs(html, \"html.parser\")"
   ]
  },
  {
   "cell_type": "code",
   "execution_count": 8,
   "metadata": {},
   "outputs": [
    {
     "data": {
      "text/plain": [
       "<table class=\"table\">\n",
       "<tbody>\n",
       "<tr>\n",
       "<th scope=\"row\"><b> Mars - Earth Comparison</b></th>\n",
       "<td><span class=\"orange\"><b> Mars</b></span></td>\n",
       "<td><span class=\"purple\"> <b>Earth </b></span> </td>\n",
       "</tr>\n",
       "<tr>\n",
       "<th scope=\"row\">Diameter:</th>\n",
       "<td><span class=\"orange\">6,779 km</span></td>\n",
       "<td><span class=\"purple\">12,742 km</span> </td>\n",
       "</tr>\n",
       "<tr>\n",
       "<th scope=\"row\">Mass:</th>\n",
       "<td><span class=\"orange\">6.39 × 10^23 kg </span></td>\n",
       "<td><span class=\"purple\">5.97 × 10^24 kg</span> </td>\n",
       "</tr>\n",
       "<tr>\n",
       "<th scope=\"row\">Moons:</th>\n",
       "<td><span class=\"orange\">2</span></td>\n",
       "<td><span class=\"purple\">1</span> </td>\n",
       "</tr>\n",
       "<tr>\n",
       "<th scope=\"row\">Distance from Sun:</th>\n",
       "<td><span class=\"orange\">227,943,824 km</span></td>\n",
       "<td><span class=\"purple\">149,598,262 km</span> </td>\n",
       "</tr>\n",
       "<tr>\n",
       "<th scope=\"row\">Length of Year:</th>\n",
       "<td><span class=\"orange\">687 Earth days</span></td>\n",
       "<td><span class=\"purple\">365.24 days</span> </td>\n",
       "</tr>\n",
       "<tr>\n",
       "<th scope=\"row\">Temperature:</th>\n",
       "<td><span class=\"orange\">-87 to -5 °C</span></td>\n",
       "<td><span class=\"purple\">\t-88 to 58°C</span> </td>\n",
       "</tr>\n",
       "</tbody>\n",
       "</table>"
      ]
     },
     "execution_count": 8,
     "metadata": {},
     "output_type": "execute_result"
    }
   ],
   "source": [
    "table = soup.find_all(\"table\", class_=\"table\")[0]\n",
    "table"
   ]
  },
  {
   "cell_type": "code",
   "execution_count": 9,
   "metadata": {},
   "outputs": [],
   "source": [
    "table_header = [i.text for i in table(\"th\")]\n",
    "mars_column = [i.text for i in table(\"span\", class_=\"orange\")]\n",
    "earth_column = [i.text for i in table(\"span\", class_=\"purple\")]"
   ]
  },
  {
   "cell_type": "code",
   "execution_count": 10,
   "metadata": {},
   "outputs": [],
   "source": [
    "table_df = {\"Description\": table_header, \"Mars\": mars_column, \"Earth\": earth_column}\n"
   ]
  },
  {
   "cell_type": "code",
   "execution_count": 11,
   "metadata": {},
   "outputs": [],
   "source": [
    "df = pd.DataFrame(table_df)\n"
   ]
  },
  {
   "cell_type": "code",
   "execution_count": 12,
   "metadata": {},
   "outputs": [
    {
     "data": {
      "text/plain": [
       "{'Description': [' Mars - Earth Comparison',\n",
       "  'Diameter:',\n",
       "  'Mass:',\n",
       "  'Moons:',\n",
       "  'Distance from Sun:',\n",
       "  'Length of Year:',\n",
       "  'Temperature:'],\n",
       " 'Mars': [' Mars',\n",
       "  '6,779 km',\n",
       "  '6.39 × 10^23 kg ',\n",
       "  '2',\n",
       "  '227,943,824 km',\n",
       "  '687 Earth days',\n",
       "  '-87 to -5 °C'],\n",
       " 'Earth': [' Earth ',\n",
       "  '12,742 km',\n",
       "  '5.97 × 10^24 kg',\n",
       "  '1',\n",
       "  '149,598,262 km',\n",
       "  '365.24 days',\n",
       "  '\\t-88 to 58°C']}"
      ]
     },
     "execution_count": 12,
     "metadata": {},
     "output_type": "execute_result"
    }
   ],
   "source": [
    "table_df"
   ]
  },
  {
   "cell_type": "code",
   "execution_count": 13,
   "metadata": {},
   "outputs": [],
   "source": [
    "df.set_index(\"Description\", inplace=True)\n",
    "df[\"Earth\"] = df[\"Earth\"].str.replace(\"\\t\", \"\")\n",
    "comparison_table = df.to_html(classes=\"table table-striped\")"
   ]
  },
  {
   "cell_type": "code",
   "execution_count": 14,
   "metadata": {},
   "outputs": [
    {
     "data": {
      "text/html": [
       "<div>\n",
       "<style scoped>\n",
       "    .dataframe tbody tr th:only-of-type {\n",
       "        vertical-align: middle;\n",
       "    }\n",
       "\n",
       "    .dataframe tbody tr th {\n",
       "        vertical-align: top;\n",
       "    }\n",
       "\n",
       "    .dataframe thead th {\n",
       "        text-align: right;\n",
       "    }\n",
       "</style>\n",
       "<table border=\"1\" class=\"dataframe\">\n",
       "  <thead>\n",
       "    <tr style=\"text-align: right;\">\n",
       "      <th></th>\n",
       "      <th>Mars</th>\n",
       "      <th>Earth</th>\n",
       "    </tr>\n",
       "    <tr>\n",
       "      <th>Description</th>\n",
       "      <th></th>\n",
       "      <th></th>\n",
       "    </tr>\n",
       "  </thead>\n",
       "  <tbody>\n",
       "    <tr>\n",
       "      <th>Mars - Earth Comparison</th>\n",
       "      <td>Mars</td>\n",
       "      <td>Earth</td>\n",
       "    </tr>\n",
       "    <tr>\n",
       "      <th>Diameter:</th>\n",
       "      <td>6,779 km</td>\n",
       "      <td>12,742 km</td>\n",
       "    </tr>\n",
       "    <tr>\n",
       "      <th>Mass:</th>\n",
       "      <td>6.39 × 10^23 kg</td>\n",
       "      <td>5.97 × 10^24 kg</td>\n",
       "    </tr>\n",
       "    <tr>\n",
       "      <th>Moons:</th>\n",
       "      <td>2</td>\n",
       "      <td>1</td>\n",
       "    </tr>\n",
       "    <tr>\n",
       "      <th>Distance from Sun:</th>\n",
       "      <td>227,943,824 km</td>\n",
       "      <td>149,598,262 km</td>\n",
       "    </tr>\n",
       "    <tr>\n",
       "      <th>Length of Year:</th>\n",
       "      <td>687 Earth days</td>\n",
       "      <td>365.24 days</td>\n",
       "    </tr>\n",
       "    <tr>\n",
       "      <th>Temperature:</th>\n",
       "      <td>-87 to -5 °C</td>\n",
       "      <td>-88 to 58°C</td>\n",
       "    </tr>\n",
       "  </tbody>\n",
       "</table>\n",
       "</div>"
      ],
      "text/plain": [
       "                                      Mars            Earth\n",
       "Description                                                \n",
       " Mars - Earth Comparison              Mars           Earth \n",
       "Diameter:                         6,779 km        12,742 km\n",
       "Mass:                     6.39 × 10^23 kg   5.97 × 10^24 kg\n",
       "Moons:                                   2                1\n",
       "Distance from Sun:          227,943,824 km   149,598,262 km\n",
       "Length of Year:             687 Earth days      365.24 days\n",
       "Temperature:                  -87 to -5 °C      -88 to 58°C"
      ]
     },
     "execution_count": 14,
     "metadata": {},
     "output_type": "execute_result"
    }
   ],
   "source": [
    "df"
   ]
  },
  {
   "cell_type": "code",
   "execution_count": 15,
   "metadata": {},
   "outputs": [],
   "source": [
    "browser.quit()"
   ]
  }
 ],
 "metadata": {
  "kernelspec": {
   "display_name": "Python 3.9.12 ('base')",
   "language": "python",
   "name": "python3"
  },
  "language_info": {
   "codemirror_mode": {
    "name": "ipython",
    "version": 3
   },
   "file_extension": ".py",
   "mimetype": "text/x-python",
   "name": "python",
   "nbconvert_exporter": "python",
   "pygments_lexer": "ipython3",
   "version": "3.9.12"
  },
  "vscode": {
   "interpreter": {
    "hash": "678b42bd3b5c11975b883c4a57822b84d04424bac9b90125b91ca18c34eb066d"
   }
  }
 },
 "nbformat": 4,
 "nbformat_minor": 4
}
