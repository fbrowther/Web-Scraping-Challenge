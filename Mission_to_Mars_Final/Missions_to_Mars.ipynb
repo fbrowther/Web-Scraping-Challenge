{
 "cells": [
  {
   "cell_type": "markdown",
   "metadata": {},
   "source": [
    "# Part  1: Scraping"
   ]
  },
  {
   "cell_type": "code",
   "execution_count": 1,
   "metadata": {},
   "outputs": [
    {
     "name": "stdout",
     "output_type": "stream",
     "text": [
      "Defaulting to user installation because normal site-packages is not writeable\n",
      "Requirement already satisfied: splinter in /Users/Farzana/Library/Python/3.9/lib/python/site-packages (0.18.1)\n",
      "\u001b[33mWARNING: You are using pip version 21.2.4; however, version 22.3.1 is available.\n",
      "You should consider upgrading via the '/Library/Developer/CommandLineTools/usr/bin/python3 -m pip install --upgrade pip' command.\u001b[0m\n"
     ]
    }
   ],
   "source": [
    "!pip3 install splinter"
   ]
  },
  {
   "cell_type": "code",
   "execution_count": 2,
   "metadata": {},
   "outputs": [
    {
     "name": "stdout",
     "output_type": "stream",
     "text": [
      "Defaulting to user installation because normal site-packages is not writeable\n",
      "Requirement already satisfied: webdriver_manager in /Users/Farzana/Library/Python/3.9/lib/python/site-packages (3.8.5)\n",
      "Requirement already satisfied: tqdm in /Users/Farzana/Library/Python/3.9/lib/python/site-packages (from webdriver_manager) (4.64.1)\n",
      "Requirement already satisfied: requests in /Users/Farzana/Library/Python/3.9/lib/python/site-packages (from webdriver_manager) (2.28.1)\n",
      "Requirement already satisfied: python-dotenv in /Users/Farzana/Library/Python/3.9/lib/python/site-packages (from webdriver_manager) (0.21.0)\n",
      "Requirement already satisfied: packaging in /Users/Farzana/Library/Python/3.9/lib/python/site-packages (from webdriver_manager) (21.3)\n",
      "Requirement already satisfied: pyparsing!=3.0.5,>=2.0.2 in /Users/Farzana/Library/Python/3.9/lib/python/site-packages (from packaging->webdriver_manager) (3.0.9)\n",
      "Requirement already satisfied: idna<4,>=2.5 in /Users/Farzana/Library/Python/3.9/lib/python/site-packages (from requests->webdriver_manager) (3.4)\n",
      "Requirement already satisfied: urllib3<1.27,>=1.21.1 in /Users/Farzana/Library/Python/3.9/lib/python/site-packages (from requests->webdriver_manager) (1.26.13)\n",
      "Requirement already satisfied: charset-normalizer<3,>=2 in /Users/Farzana/Library/Python/3.9/lib/python/site-packages (from requests->webdriver_manager) (2.1.1)\n",
      "Requirement already satisfied: certifi>=2017.4.17 in /Users/Farzana/Library/Python/3.9/lib/python/site-packages (from requests->webdriver_manager) (2022.9.24)\n",
      "\u001b[33mWARNING: You are using pip version 21.2.4; however, version 22.3.1 is available.\n",
      "You should consider upgrading via the '/Library/Developer/CommandLineTools/usr/bin/python3 -m pip install --upgrade pip' command.\u001b[0m\n"
     ]
    }
   ],
   "source": [
    "!pip3 install webdriver_manager"
   ]
  },
  {
   "cell_type": "code",
   "execution_count": 3,
   "metadata": {},
   "outputs": [
    {
     "name": "stdout",
     "output_type": "stream",
     "text": [
      "Defaulting to user installation because normal site-packages is not writeable\n",
      "Requirement already satisfied: selenium in /Users/Farzana/Library/Python/3.9/lib/python/site-packages (4.6.1)\n",
      "Requirement already satisfied: trio~=0.17 in /Users/Farzana/Library/Python/3.9/lib/python/site-packages (from selenium) (0.22.0)\n",
      "Requirement already satisfied: certifi>=2021.10.8 in /Users/Farzana/Library/Python/3.9/lib/python/site-packages (from selenium) (2022.9.24)\n",
      "Requirement already satisfied: urllib3[socks]~=1.26 in /Users/Farzana/Library/Python/3.9/lib/python/site-packages (from selenium) (1.26.13)\n",
      "Requirement already satisfied: trio-websocket~=0.9 in /Users/Farzana/Library/Python/3.9/lib/python/site-packages (from selenium) (0.9.2)\n",
      "Requirement already satisfied: attrs>=19.2.0 in /Users/Farzana/Library/Python/3.9/lib/python/site-packages (from trio~=0.17->selenium) (22.1.0)\n",
      "Requirement already satisfied: sortedcontainers in /Users/Farzana/Library/Python/3.9/lib/python/site-packages (from trio~=0.17->selenium) (2.4.0)\n",
      "Requirement already satisfied: outcome in /Users/Farzana/Library/Python/3.9/lib/python/site-packages (from trio~=0.17->selenium) (1.2.0)\n",
      "Requirement already satisfied: exceptiongroup>=1.0.0rc9 in /Users/Farzana/Library/Python/3.9/lib/python/site-packages (from trio~=0.17->selenium) (1.0.4)\n",
      "Requirement already satisfied: async-generator>=1.9 in /Users/Farzana/Library/Python/3.9/lib/python/site-packages (from trio~=0.17->selenium) (1.10)\n",
      "Requirement already satisfied: sniffio in /Users/Farzana/Library/Python/3.9/lib/python/site-packages (from trio~=0.17->selenium) (1.3.0)\n",
      "Requirement already satisfied: idna in /Users/Farzana/Library/Python/3.9/lib/python/site-packages (from trio~=0.17->selenium) (3.4)\n",
      "Requirement already satisfied: wsproto>=0.14 in /Users/Farzana/Library/Python/3.9/lib/python/site-packages (from trio-websocket~=0.9->selenium) (1.2.0)\n",
      "Requirement already satisfied: PySocks!=1.5.7,<2.0,>=1.5.6 in /Users/Farzana/Library/Python/3.9/lib/python/site-packages (from urllib3[socks]~=1.26->selenium) (1.7.1)\n",
      "Requirement already satisfied: h11<1,>=0.9.0 in /Users/Farzana/Library/Python/3.9/lib/python/site-packages (from wsproto>=0.14->trio-websocket~=0.9->selenium) (0.14.0)\n",
      "\u001b[33mWARNING: You are using pip version 21.2.4; however, version 22.3.1 is available.\n",
      "You should consider upgrading via the '/Library/Developer/CommandLineTools/usr/bin/python3 -m pip install --upgrade pip' command.\u001b[0m\n",
      "Note: you may need to restart the kernel to use updated packages.\n"
     ]
    }
   ],
   "source": [
    "pip install selenium"
   ]
  },
  {
   "cell_type": "code",
   "execution_count": 4,
   "metadata": {},
   "outputs": [
    {
     "name": "stdout",
     "output_type": "stream",
     "text": [
      "Defaulting to user installation because normal site-packages is not writeable\n",
      "Requirement already satisfied: beautifulsoup4 in /Users/Farzana/Library/Python/3.9/lib/python/site-packages (4.11.1)\n",
      "Requirement already satisfied: soupsieve>1.2 in /Users/Farzana/Library/Python/3.9/lib/python/site-packages (from beautifulsoup4) (2.3.2.post1)\n",
      "\u001b[33mWARNING: You are using pip version 21.2.4; however, version 22.3.1 is available.\n",
      "You should consider upgrading via the '/Library/Developer/CommandLineTools/usr/bin/python3 -m pip install --upgrade pip' command.\u001b[0m\n"
     ]
    }
   ],
   "source": [
    "!pip3 install beautifulsoup4"
   ]
  },
  {
   "cell_type": "code",
   "execution_count": 5,
   "metadata": {},
   "outputs": [
    {
     "name": "stdout",
     "output_type": "stream",
     "text": [
      "Defaulting to user installation because normal site-packages is not writeable\n",
      "Requirement already satisfied: pandas in /Users/Farzana/Library/Python/3.9/lib/python/site-packages (1.5.2)\n",
      "Requirement already satisfied: python-dateutil>=2.8.1 in /Users/Farzana/Library/Python/3.9/lib/python/site-packages (from pandas) (2.8.2)\n",
      "Requirement already satisfied: pytz>=2020.1 in /Users/Farzana/Library/Python/3.9/lib/python/site-packages (from pandas) (2022.6)\n",
      "Requirement already satisfied: numpy>=1.20.3 in /Users/Farzana/Library/Python/3.9/lib/python/site-packages (from pandas) (1.23.5)\n",
      "Requirement already satisfied: six>=1.5 in /Library/Developer/CommandLineTools/Library/Frameworks/Python3.framework/Versions/3.9/lib/python3.9/site-packages (from python-dateutil>=2.8.1->pandas) (1.15.0)\n",
      "\u001b[33mWARNING: You are using pip version 21.2.4; however, version 22.3.1 is available.\n",
      "You should consider upgrading via the '/Library/Developer/CommandLineTools/usr/bin/python3 -m pip install --upgrade pip' command.\u001b[0m\n",
      "Note: you may need to restart the kernel to use updated packages.\n"
     ]
    }
   ],
   "source": [
    "pip install pandas"
   ]
  },
  {
   "cell_type": "code",
   "execution_count": 6,
   "metadata": {},
   "outputs": [],
   "source": [
    "# Import Dependencies\n",
    "import pymongo\n",
    "from splinter import Browser\n",
    "from bs4 import BeautifulSoup as bs\n",
    "import os\n",
    "import requests\n",
    "from webdriver_manager.chrome import ChromeDriverManager\n",
    "import json\n",
    "import pandas as pd"
   ]
  },
  {
   "cell_type": "code",
   "execution_count": 7,
   "metadata": {
    "scrolled": true
   },
   "outputs": [],
   "source": [
    "executable_path = {'executable_path': ChromeDriverManager().install()}\n",
    "browser = Browser('chrome', **executable_path, headless=False)"
   ]
  },
  {
   "cell_type": "markdown",
   "metadata": {},
   "source": [
    "### Step1: Visit [Mars NASA news site](https://redplanetscience.com) and Scrape the Website for Title and Preview\n"
   ]
  },
  {
   "cell_type": "code",
   "execution_count": 8,
   "metadata": {},
   "outputs": [],
   "source": [
    "# TOP NEWS SCRAPE\n",
    "news_url = \"https://redplanetscience.com\"\n",
    "browser.visit(news_url)\n",
    "html_1 = browser.html\n",
    "soup_1 = bs(html_1, \"html.parser\")\n",
    "latest_news = soup_1.find_all(\"div\", class_=\"content_title\")[1]\n",
    "latest_news_title = latest_news.get_text()\n",
    "paragraph = soup_1.find_all(\"div\", class_=\"article_teaser_body\")[0]\n",
    "latest_news_paragraph = paragraph.text"
   ]
  },
  {
   "cell_type": "code",
   "execution_count": 9,
   "metadata": {},
   "outputs": [
    {
     "name": "stdout",
     "output_type": "stream",
     "text": [
      "New Selfie Shows Curiosity, the Mars Chemist\n"
     ]
    }
   ],
   "source": [
    "print(latest_news_title)"
   ]
  },
  {
   "cell_type": "code",
   "execution_count": 10,
   "metadata": {},
   "outputs": [
    {
     "name": "stdout",
     "output_type": "stream",
     "text": [
      "Like much of the rest of the world, the Mars rover team is pushing forward with its mission-critical work while putting the health and safety of their colleagues and community first.\n"
     ]
    }
   ],
   "source": [
    "print(latest_news_paragraph)"
   ]
  },
  {
   "cell_type": "markdown",
   "metadata": {},
   "source": [
    "### Step2: Visit [JPL Mars Space webpage](https://spaceimages-mars.com/) and Scrape Featured Image"
   ]
  },
  {
   "cell_type": "code",
   "execution_count": 11,
   "metadata": {},
   "outputs": [],
   "source": [
    "url = \"https://spaceimages-mars.com/\"\n",
    "browser.visit(url)\n",
    "html_2 = browser.html\n",
    "soup = bs(html_2, \"html.parser\")\n",
    "img = [i.get(\"src\") for i in soup.find_all(\"img\", class_=\"headerimage fade-in\")]\n",
    "featured_image_url = url + img[0]"
   ]
  },
  {
   "cell_type": "code",
   "execution_count": 12,
   "metadata": {},
   "outputs": [
    {
     "name": "stdout",
     "output_type": "stream",
     "text": [
      "https://spaceimages-mars.com/image/featured/mars1.jpg\n"
     ]
    }
   ],
   "source": [
    "print(featured_image_url)"
   ]
  },
  {
   "cell_type": "markdown",
   "metadata": {},
   "source": [
    "### Step3: Visit the [Mars Facts webpage](https://galaxyfacts-mars.com) and scrape facts table containing diameter, mass etc"
   ]
  },
  {
   "cell_type": "code",
   "execution_count": 13,
   "metadata": {},
   "outputs": [],
   "source": [
    "table_url = \"https://galaxyfacts-mars.com/\"\n",
    "browser.visit(table_url)\n",
    "html_3 = browser.html\n",
    "soup_3 = bs(html_3, \"html.parser\")\n",
    "table = soup_3.find_all(\"table\", class_=\"table\")[0]\n",
    "\n",
    "table_header = [i.text for i in table(\"th\")]\n",
    "mars_column = [i.text for i in table(\"span\", class_=\"orange\")]\n",
    "earth_column = [i.text for i in table(\"span\", class_=\"purple\")]\n",
    "\n",
    "table_df = {\"Description\": table_header, \"Mars\": mars_column, \"Earth\": earth_column}\n"
   ]
  },
  {
   "cell_type": "code",
   "execution_count": 14,
   "metadata": {},
   "outputs": [
    {
     "data": {
      "text/plain": [
       "{'Description': [' Mars - Earth Comparison',\n",
       "  'Diameter:',\n",
       "  'Mass:',\n",
       "  'Moons:',\n",
       "  'Distance from Sun:',\n",
       "  'Length of Year:',\n",
       "  'Temperature:'],\n",
       " 'Mars': [' Mars',\n",
       "  '6,779 km',\n",
       "  '6.39 × 10^23 kg ',\n",
       "  '2',\n",
       "  '227,943,824 km',\n",
       "  '687 Earth days',\n",
       "  '-87 to -5 °C'],\n",
       " 'Earth': [' Earth ',\n",
       "  '12,742 km',\n",
       "  '5.97 × 10^24 kg',\n",
       "  '1',\n",
       "  '149,598,262 km',\n",
       "  '365.24 days',\n",
       "  '\\t-88 to 58°C']}"
      ]
     },
     "execution_count": 14,
     "metadata": {},
     "output_type": "execute_result"
    }
   ],
   "source": [
    "table_df"
   ]
  },
  {
   "cell_type": "code",
   "execution_count": 15,
   "metadata": {},
   "outputs": [],
   "source": [
    "df = pd.DataFrame(table_df)\n",
    "df.set_index(\"Description\", inplace=True)\n",
    "df[\"Earth\"] = df[\"Earth\"].str.replace(\"\\t\", \"\")\n",
    "comparison_table = df.to_html(classes=\"table table-striped\")"
   ]
  },
  {
   "cell_type": "code",
   "execution_count": 16,
   "metadata": {},
   "outputs": [
    {
     "data": {
      "text/html": [
       "<div>\n",
       "<style scoped>\n",
       "    .dataframe tbody tr th:only-of-type {\n",
       "        vertical-align: middle;\n",
       "    }\n",
       "\n",
       "    .dataframe tbody tr th {\n",
       "        vertical-align: top;\n",
       "    }\n",
       "\n",
       "    .dataframe thead th {\n",
       "        text-align: right;\n",
       "    }\n",
       "</style>\n",
       "<table border=\"1\" class=\"dataframe\">\n",
       "  <thead>\n",
       "    <tr style=\"text-align: right;\">\n",
       "      <th></th>\n",
       "      <th>Mars</th>\n",
       "      <th>Earth</th>\n",
       "    </tr>\n",
       "    <tr>\n",
       "      <th>Description</th>\n",
       "      <th></th>\n",
       "      <th></th>\n",
       "    </tr>\n",
       "  </thead>\n",
       "  <tbody>\n",
       "    <tr>\n",
       "      <th>Mars - Earth Comparison</th>\n",
       "      <td>Mars</td>\n",
       "      <td>Earth</td>\n",
       "    </tr>\n",
       "    <tr>\n",
       "      <th>Diameter:</th>\n",
       "      <td>6,779 km</td>\n",
       "      <td>12,742 km</td>\n",
       "    </tr>\n",
       "    <tr>\n",
       "      <th>Mass:</th>\n",
       "      <td>6.39 × 10^23 kg</td>\n",
       "      <td>5.97 × 10^24 kg</td>\n",
       "    </tr>\n",
       "    <tr>\n",
       "      <th>Moons:</th>\n",
       "      <td>2</td>\n",
       "      <td>1</td>\n",
       "    </tr>\n",
       "    <tr>\n",
       "      <th>Distance from Sun:</th>\n",
       "      <td>227,943,824 km</td>\n",
       "      <td>149,598,262 km</td>\n",
       "    </tr>\n",
       "    <tr>\n",
       "      <th>Length of Year:</th>\n",
       "      <td>687 Earth days</td>\n",
       "      <td>365.24 days</td>\n",
       "    </tr>\n",
       "    <tr>\n",
       "      <th>Temperature:</th>\n",
       "      <td>-87 to -5 °C</td>\n",
       "      <td>-88 to 58°C</td>\n",
       "    </tr>\n",
       "  </tbody>\n",
       "</table>\n",
       "</div>"
      ],
      "text/plain": [
       "                                      Mars            Earth\n",
       "Description                                                \n",
       " Mars - Earth Comparison              Mars           Earth \n",
       "Diameter:                         6,779 km        12,742 km\n",
       "Mass:                     6.39 × 10^23 kg   5.97 × 10^24 kg\n",
       "Moons:                                   2                1\n",
       "Distance from Sun:          227,943,824 km   149,598,262 km\n",
       "Length of Year:             687 Earth days      365.24 days\n",
       "Temperature:                  -87 to -5 °C      -88 to 58°C"
      ]
     },
     "execution_count": 16,
     "metadata": {},
     "output_type": "execute_result"
    }
   ],
   "source": [
    "df"
   ]
  },
  {
   "cell_type": "markdown",
   "metadata": {},
   "source": [
    "### Step4: Visit the astrogeology site (https://marshemispheres.com) to obtain high-resolution images for each hemisphere of Mars."
   ]
  },
  {
   "cell_type": "code",
   "execution_count": 17,
   "metadata": {},
   "outputs": [],
   "source": [
    "# HEMISPHERE IMAGE SCRAPE\n",
    "hemi_url = \"https://marshemispheres.com/\"\n",
    "browser.visit(hemi_url)"
   ]
  },
  {
   "cell_type": "code",
   "execution_count": 18,
   "metadata": {},
   "outputs": [],
   "source": [
    "hemisphere_image_urls = []\n",
    "\n",
    "for i in range(4):\n",
    "    html = browser.html\n",
    "    soup = bs(html, \"html.parser\")\n",
    "    \n",
    "    title = soup.find_all(\"h3\")[i].get_text()\n",
    "    browser.find_by_tag('h3')[i].click()\n",
    "    \n",
    "    html = browser.html\n",
    "    soup = bs(html, \"html.parser\")\n",
    "    \n",
    "    img_url = soup.find(\"img\", class_=\"wide-image\")[\"src\"]\n",
    "    \n",
    "    hemisphere_image_urls.append({\n",
    "        \"title\": title,\n",
    "        \"img_url\": \"https://marshemispheres.com/\" + img_url\n",
    "    })\n",
    "    browser.back()"
   ]
  },
  {
   "cell_type": "code",
   "execution_count": 19,
   "metadata": {},
   "outputs": [
    {
     "data": {
      "text/plain": [
       "[{'title': 'Cerberus Hemisphere Enhanced',\n",
       "  'img_url': 'https://marshemispheres.com/images/f5e372a36edfa389625da6d0cc25d905_cerberus_enhanced.tif_full.jpg'},\n",
       " {'title': 'Schiaparelli Hemisphere Enhanced',\n",
       "  'img_url': 'https://marshemispheres.com/images/3778f7b43bbbc89d6e3cfabb3613ba93_schiaparelli_enhanced.tif_full.jpg'},\n",
       " {'title': 'Syrtis Major Hemisphere Enhanced',\n",
       "  'img_url': 'https://marshemispheres.com/images/555e6403a6ddd7ba16ddb0e471cadcf7_syrtis_major_enhanced.tif_full.jpg'},\n",
       " {'title': 'Valles Marineris Hemisphere Enhanced',\n",
       "  'img_url': 'https://marshemispheres.com/images/b3c7c6c9138f57b4756be9b9c43e3a48_valles_marineris_enhanced.tif_full.jpg'}]"
      ]
     },
     "execution_count": 19,
     "metadata": {},
     "output_type": "execute_result"
    }
   ],
   "source": [
    "hemisphere_image_urls"
   ]
  },
  {
   "cell_type": "code",
   "execution_count": 20,
   "metadata": {},
   "outputs": [],
   "source": [
    "# Append to a list\n",
    "title1 = hemisphere_image_urls[0][\"title\"]\n",
    "image1 = hemisphere_image_urls[0][\"img_url\"]\n",
    "\n",
    "title2 = hemisphere_image_urls[1][\"title\"]\n",
    "image2 = hemisphere_image_urls[1][\"img_url\"]\n",
    "\n",
    "title3 = hemisphere_image_urls[2][\"title\"]\n",
    "image3 = hemisphere_image_urls[2][\"img_url\"]\n",
    "\n",
    "title4 = hemisphere_image_urls[3][\"title\"]\n",
    "image4 = hemisphere_image_urls[3][\"img_url\"]"
   ]
  },
  {
   "cell_type": "code",
   "execution_count": 21,
   "metadata": {},
   "outputs": [],
   "source": [
    "# FINAL DICTIONARY FOR MONGO\n",
    "    \n",
    "final_mars_data = {\n",
    "\"latest_title\": latest_news_title,\n",
    "\"latest_paragraph\" : latest_news_paragraph,\n",
    "\"featured_image\": featured_image_url,\n",
    "\"html_table\": comparison_table,\n",
    "\"hemisphere_scrape\": hemisphere_image_urls,\n",
    "\"title1\": title1,\n",
    "\"title2\": title2,\n",
    "\"title3\": title3,\n",
    "\"title4\": title4,\n",
    "\"image1\": image1,\n",
    "\"image2\": image2,\n",
    "\"image3\": image3,\n",
    "\"image4\": image4,\n",
    "}\n",
    "\n"
   ]
  },
  {
   "cell_type": "code",
   "execution_count": 22,
   "metadata": {},
   "outputs": [
    {
     "name": "stdout",
     "output_type": "stream",
     "text": [
      "{'latest_title': 'New Selfie Shows Curiosity, the Mars Chemist', 'latest_paragraph': 'Like much of the rest of the world, the Mars rover team is pushing forward with its mission-critical work while putting the health and safety of their colleagues and community first.', 'featured_image': 'https://spaceimages-mars.com/image/featured/mars1.jpg', 'html_table': '<table border=\"1\" class=\"dataframe table table-striped\">\\n  <thead>\\n    <tr style=\"text-align: right;\">\\n      <th></th>\\n      <th>Mars</th>\\n      <th>Earth</th>\\n    </tr>\\n    <tr>\\n      <th>Description</th>\\n      <th></th>\\n      <th></th>\\n    </tr>\\n  </thead>\\n  <tbody>\\n    <tr>\\n      <th>Mars - Earth Comparison</th>\\n      <td>Mars</td>\\n      <td>Earth</td>\\n    </tr>\\n    <tr>\\n      <th>Diameter:</th>\\n      <td>6,779 km</td>\\n      <td>12,742 km</td>\\n    </tr>\\n    <tr>\\n      <th>Mass:</th>\\n      <td>6.39 × 10^23 kg</td>\\n      <td>5.97 × 10^24 kg</td>\\n    </tr>\\n    <tr>\\n      <th>Moons:</th>\\n      <td>2</td>\\n      <td>1</td>\\n    </tr>\\n    <tr>\\n      <th>Distance from Sun:</th>\\n      <td>227,943,824 km</td>\\n      <td>149,598,262 km</td>\\n    </tr>\\n    <tr>\\n      <th>Length of Year:</th>\\n      <td>687 Earth days</td>\\n      <td>365.24 days</td>\\n    </tr>\\n    <tr>\\n      <th>Temperature:</th>\\n      <td>-87 to -5 °C</td>\\n      <td>-88 to 58°C</td>\\n    </tr>\\n  </tbody>\\n</table>', 'hemisphere_scrape': [{'title': 'Cerberus Hemisphere Enhanced', 'img_url': 'https://marshemispheres.com/images/f5e372a36edfa389625da6d0cc25d905_cerberus_enhanced.tif_full.jpg'}, {'title': 'Schiaparelli Hemisphere Enhanced', 'img_url': 'https://marshemispheres.com/images/3778f7b43bbbc89d6e3cfabb3613ba93_schiaparelli_enhanced.tif_full.jpg'}, {'title': 'Syrtis Major Hemisphere Enhanced', 'img_url': 'https://marshemispheres.com/images/555e6403a6ddd7ba16ddb0e471cadcf7_syrtis_major_enhanced.tif_full.jpg'}, {'title': 'Valles Marineris Hemisphere Enhanced', 'img_url': 'https://marshemispheres.com/images/b3c7c6c9138f57b4756be9b9c43e3a48_valles_marineris_enhanced.tif_full.jpg'}], 'title1': 'Cerberus Hemisphere Enhanced', 'title2': 'Schiaparelli Hemisphere Enhanced', 'title3': 'Syrtis Major Hemisphere Enhanced', 'title4': 'Valles Marineris Hemisphere Enhanced', 'image1': 'https://marshemispheres.com/images/f5e372a36edfa389625da6d0cc25d905_cerberus_enhanced.tif_full.jpg', 'image2': 'https://marshemispheres.com/images/3778f7b43bbbc89d6e3cfabb3613ba93_schiaparelli_enhanced.tif_full.jpg', 'image3': 'https://marshemispheres.com/images/555e6403a6ddd7ba16ddb0e471cadcf7_syrtis_major_enhanced.tif_full.jpg', 'image4': 'https://marshemispheres.com/images/b3c7c6c9138f57b4756be9b9c43e3a48_valles_marineris_enhanced.tif_full.jpg'}\n"
     ]
    }
   ],
   "source": [
    "print(final_mars_data)"
   ]
  },
  {
   "cell_type": "code",
   "execution_count": 23,
   "metadata": {},
   "outputs": [
    {
     "data": {
      "text/html": [
       "<div>\n",
       "<style scoped>\n",
       "    .dataframe tbody tr th:only-of-type {\n",
       "        vertical-align: middle;\n",
       "    }\n",
       "\n",
       "    .dataframe tbody tr th {\n",
       "        vertical-align: top;\n",
       "    }\n",
       "\n",
       "    .dataframe thead th {\n",
       "        text-align: right;\n",
       "    }\n",
       "</style>\n",
       "<table border=\"1\" class=\"dataframe\">\n",
       "  <thead>\n",
       "    <tr style=\"text-align: right;\">\n",
       "      <th></th>\n",
       "      <th>latest_title</th>\n",
       "      <th>latest_paragraph</th>\n",
       "      <th>featured_image</th>\n",
       "      <th>html_table</th>\n",
       "      <th>hemisphere_scrape</th>\n",
       "      <th>title1</th>\n",
       "      <th>title2</th>\n",
       "      <th>title3</th>\n",
       "      <th>title4</th>\n",
       "      <th>image1</th>\n",
       "      <th>image2</th>\n",
       "      <th>image3</th>\n",
       "      <th>image4</th>\n",
       "    </tr>\n",
       "  </thead>\n",
       "  <tbody>\n",
       "    <tr>\n",
       "      <th>0</th>\n",
       "      <td>New Selfie Shows Curiosity, the Mars Chemist</td>\n",
       "      <td>Like much of the rest of the world, the Mars r...</td>\n",
       "      <td>https://spaceimages-mars.com/image/featured/ma...</td>\n",
       "      <td>&lt;table border=\"1\" class=\"dataframe table table...</td>\n",
       "      <td>{'title': 'Cerberus Hemisphere Enhanced', 'img...</td>\n",
       "      <td>Cerberus Hemisphere Enhanced</td>\n",
       "      <td>Schiaparelli Hemisphere Enhanced</td>\n",
       "      <td>Syrtis Major Hemisphere Enhanced</td>\n",
       "      <td>Valles Marineris Hemisphere Enhanced</td>\n",
       "      <td>https://marshemispheres.com/images/f5e372a36ed...</td>\n",
       "      <td>https://marshemispheres.com/images/3778f7b43bb...</td>\n",
       "      <td>https://marshemispheres.com/images/555e6403a6d...</td>\n",
       "      <td>https://marshemispheres.com/images/b3c7c6c9138...</td>\n",
       "    </tr>\n",
       "    <tr>\n",
       "      <th>1</th>\n",
       "      <td>New Selfie Shows Curiosity, the Mars Chemist</td>\n",
       "      <td>Like much of the rest of the world, the Mars r...</td>\n",
       "      <td>https://spaceimages-mars.com/image/featured/ma...</td>\n",
       "      <td>&lt;table border=\"1\" class=\"dataframe table table...</td>\n",
       "      <td>{'title': 'Schiaparelli Hemisphere Enhanced', ...</td>\n",
       "      <td>Cerberus Hemisphere Enhanced</td>\n",
       "      <td>Schiaparelli Hemisphere Enhanced</td>\n",
       "      <td>Syrtis Major Hemisphere Enhanced</td>\n",
       "      <td>Valles Marineris Hemisphere Enhanced</td>\n",
       "      <td>https://marshemispheres.com/images/f5e372a36ed...</td>\n",
       "      <td>https://marshemispheres.com/images/3778f7b43bb...</td>\n",
       "      <td>https://marshemispheres.com/images/555e6403a6d...</td>\n",
       "      <td>https://marshemispheres.com/images/b3c7c6c9138...</td>\n",
       "    </tr>\n",
       "    <tr>\n",
       "      <th>2</th>\n",
       "      <td>New Selfie Shows Curiosity, the Mars Chemist</td>\n",
       "      <td>Like much of the rest of the world, the Mars r...</td>\n",
       "      <td>https://spaceimages-mars.com/image/featured/ma...</td>\n",
       "      <td>&lt;table border=\"1\" class=\"dataframe table table...</td>\n",
       "      <td>{'title': 'Syrtis Major Hemisphere Enhanced', ...</td>\n",
       "      <td>Cerberus Hemisphere Enhanced</td>\n",
       "      <td>Schiaparelli Hemisphere Enhanced</td>\n",
       "      <td>Syrtis Major Hemisphere Enhanced</td>\n",
       "      <td>Valles Marineris Hemisphere Enhanced</td>\n",
       "      <td>https://marshemispheres.com/images/f5e372a36ed...</td>\n",
       "      <td>https://marshemispheres.com/images/3778f7b43bb...</td>\n",
       "      <td>https://marshemispheres.com/images/555e6403a6d...</td>\n",
       "      <td>https://marshemispheres.com/images/b3c7c6c9138...</td>\n",
       "    </tr>\n",
       "    <tr>\n",
       "      <th>3</th>\n",
       "      <td>New Selfie Shows Curiosity, the Mars Chemist</td>\n",
       "      <td>Like much of the rest of the world, the Mars r...</td>\n",
       "      <td>https://spaceimages-mars.com/image/featured/ma...</td>\n",
       "      <td>&lt;table border=\"1\" class=\"dataframe table table...</td>\n",
       "      <td>{'title': 'Valles Marineris Hemisphere Enhance...</td>\n",
       "      <td>Cerberus Hemisphere Enhanced</td>\n",
       "      <td>Schiaparelli Hemisphere Enhanced</td>\n",
       "      <td>Syrtis Major Hemisphere Enhanced</td>\n",
       "      <td>Valles Marineris Hemisphere Enhanced</td>\n",
       "      <td>https://marshemispheres.com/images/f5e372a36ed...</td>\n",
       "      <td>https://marshemispheres.com/images/3778f7b43bb...</td>\n",
       "      <td>https://marshemispheres.com/images/555e6403a6d...</td>\n",
       "      <td>https://marshemispheres.com/images/b3c7c6c9138...</td>\n",
       "    </tr>\n",
       "  </tbody>\n",
       "</table>\n",
       "</div>"
      ],
      "text/plain": [
       "                                   latest_title  \\\n",
       "0  New Selfie Shows Curiosity, the Mars Chemist   \n",
       "1  New Selfie Shows Curiosity, the Mars Chemist   \n",
       "2  New Selfie Shows Curiosity, the Mars Chemist   \n",
       "3  New Selfie Shows Curiosity, the Mars Chemist   \n",
       "\n",
       "                                    latest_paragraph  \\\n",
       "0  Like much of the rest of the world, the Mars r...   \n",
       "1  Like much of the rest of the world, the Mars r...   \n",
       "2  Like much of the rest of the world, the Mars r...   \n",
       "3  Like much of the rest of the world, the Mars r...   \n",
       "\n",
       "                                      featured_image  \\\n",
       "0  https://spaceimages-mars.com/image/featured/ma...   \n",
       "1  https://spaceimages-mars.com/image/featured/ma...   \n",
       "2  https://spaceimages-mars.com/image/featured/ma...   \n",
       "3  https://spaceimages-mars.com/image/featured/ma...   \n",
       "\n",
       "                                          html_table  \\\n",
       "0  <table border=\"1\" class=\"dataframe table table...   \n",
       "1  <table border=\"1\" class=\"dataframe table table...   \n",
       "2  <table border=\"1\" class=\"dataframe table table...   \n",
       "3  <table border=\"1\" class=\"dataframe table table...   \n",
       "\n",
       "                                   hemisphere_scrape  \\\n",
       "0  {'title': 'Cerberus Hemisphere Enhanced', 'img...   \n",
       "1  {'title': 'Schiaparelli Hemisphere Enhanced', ...   \n",
       "2  {'title': 'Syrtis Major Hemisphere Enhanced', ...   \n",
       "3  {'title': 'Valles Marineris Hemisphere Enhance...   \n",
       "\n",
       "                         title1                            title2  \\\n",
       "0  Cerberus Hemisphere Enhanced  Schiaparelli Hemisphere Enhanced   \n",
       "1  Cerberus Hemisphere Enhanced  Schiaparelli Hemisphere Enhanced   \n",
       "2  Cerberus Hemisphere Enhanced  Schiaparelli Hemisphere Enhanced   \n",
       "3  Cerberus Hemisphere Enhanced  Schiaparelli Hemisphere Enhanced   \n",
       "\n",
       "                             title3                                title4  \\\n",
       "0  Syrtis Major Hemisphere Enhanced  Valles Marineris Hemisphere Enhanced   \n",
       "1  Syrtis Major Hemisphere Enhanced  Valles Marineris Hemisphere Enhanced   \n",
       "2  Syrtis Major Hemisphere Enhanced  Valles Marineris Hemisphere Enhanced   \n",
       "3  Syrtis Major Hemisphere Enhanced  Valles Marineris Hemisphere Enhanced   \n",
       "\n",
       "                                              image1  \\\n",
       "0  https://marshemispheres.com/images/f5e372a36ed...   \n",
       "1  https://marshemispheres.com/images/f5e372a36ed...   \n",
       "2  https://marshemispheres.com/images/f5e372a36ed...   \n",
       "3  https://marshemispheres.com/images/f5e372a36ed...   \n",
       "\n",
       "                                              image2  \\\n",
       "0  https://marshemispheres.com/images/3778f7b43bb...   \n",
       "1  https://marshemispheres.com/images/3778f7b43bb...   \n",
       "2  https://marshemispheres.com/images/3778f7b43bb...   \n",
       "3  https://marshemispheres.com/images/3778f7b43bb...   \n",
       "\n",
       "                                              image3  \\\n",
       "0  https://marshemispheres.com/images/555e6403a6d...   \n",
       "1  https://marshemispheres.com/images/555e6403a6d...   \n",
       "2  https://marshemispheres.com/images/555e6403a6d...   \n",
       "3  https://marshemispheres.com/images/555e6403a6d...   \n",
       "\n",
       "                                              image4  \n",
       "0  https://marshemispheres.com/images/b3c7c6c9138...  \n",
       "1  https://marshemispheres.com/images/b3c7c6c9138...  \n",
       "2  https://marshemispheres.com/images/b3c7c6c9138...  \n",
       "3  https://marshemispheres.com/images/b3c7c6c9138...  "
      ]
     },
     "execution_count": 23,
     "metadata": {},
     "output_type": "execute_result"
    }
   ],
   "source": [
    "df_final = pd.DataFrame(final_mars_data)\n",
    "df_final"
   ]
  },
  {
   "cell_type": "code",
   "execution_count": 24,
   "metadata": {},
   "outputs": [],
   "source": [
    "browser.quit()"
   ]
  },
  {
   "cell_type": "markdown",
   "metadata": {},
   "source": [
    "# Part 2: MongoDB and Flask Application"
   ]
  },
  {
   "cell_type": "code",
   "execution_count": 25,
   "metadata": {},
   "outputs": [],
   "source": [
    "def scrape():\n",
    "    # FEATURED IMAGE SCRAPE\n",
    "    executable_path = {'executable_path': ChromeDriverManager().install()}\n",
    "    browser = Browser('chrome', **executable_path, headless=False)\n",
    "\n",
    "    url = \"https://spaceimages-mars.com/\"\n",
    "    browser.visit(url)\n",
    "    html = browser.html\n",
    "    soup = bs(html, \"html.parser\")\n",
    "    img = [i.get(\"src\") for i in soup.find_all(\"img\", class_=\"headerimage fade-in\")]\n",
    "    featured_image_url = url + img[0]\n",
    "\n",
    "    # TOP NEWS SCRAPE\n",
    "    news_url = \"https://mars.nasa.gov/news/\"\n",
    "    browser.visit(news_url)\n",
    "    html_1 = browser.html\n",
    "    soup_1 = bs(html_1, \"html.parser\")\n",
    "    latest_news = soup_1.find_all(\"div\", class_=\"content_title\")[1]\n",
    "    latest_news_title = latest_news.get_text()\n",
    "    paragraph = soup_1.find_all(\"div\", class_=\"article_teaser_body\")[0]\n",
    "    latest_news_paragraph = paragraph.text\n",
    "    \n",
    "    # HEMISPHERE IMAGE SCRAPE\n",
    "    hemi_url = \"https://marshemispheres.com/\"\n",
    "    browser.visit(hemi_url)\n",
    "    hemisphere_image_urls = []\n",
    "\n",
    "    for i in range(4):\n",
    "        html = browser.html\n",
    "        soup = bs(html, \"html.parser\")\n",
    "    \n",
    "        title = soup.find_all(\"h3\")[i].get_text()\n",
    "        browser.find_by_tag('h3')[i].click()\n",
    "    \n",
    "        html = browser.html\n",
    "        soup = bs(html, \"html.parser\")\n",
    "    \n",
    "        img_url = soup.find(\"img\", class_=\"wide-image\")[\"src\"]\n",
    "    \n",
    "        hemisphere_image_urls.append({\n",
    "            \"title\": title,\n",
    "            \"img_url\": hemi_url + img_url\n",
    "        })\n",
    "        browser.back()\n",
    "        \n",
    "    title1 = hemisphere_image_urls[0][\"title\"]\n",
    "    image1 = hemisphere_image_urls[0][\"img_url\"]\n",
    "    \n",
    "    title2 = hemisphere_image_urls[1][\"title\"]\n",
    "    image2 = hemisphere_image_urls[1][\"img_url\"]\n",
    "\n",
    "    title3 = hemisphere_image_urls[2][\"title\"]\n",
    "    image3 = hemisphere_image_urls[2][\"img_url\"]\n",
    "\n",
    "    title4 = hemisphere_image_urls[3][\"title\"]\n",
    "    image4 = hemisphere_image_urls[3][\"img_url\"]\n",
    "          \n",
    "\n",
    "    # MARS FACT TABLE SCRAPE\n",
    "    table_url = \"https://galaxyfacts-mars.com/\"\n",
    "    browser.visit(table_url)\n",
    "    html_3 = browser.html\n",
    "    soup_3 = bs(html_3, \"html.parser\")\n",
    "    table = soup_3.find_all(\"table\", class_=\"table\")[0]\n",
    "\n",
    "    table_header = [i.text for i in table(\"th\")]\n",
    "    mars_column = [i.text for i in table(\"span\", class_=\"orange\")]\n",
    "    earth_column = [i.text for i in table(\"span\", class_=\"purple\")]\n",
    "\n",
    "    table_df = {\"Description\": table_header, \"Mars\": mars_column, \"Earth\": earth_column}\n",
    "    df = pd.DataFrame(table_df)\n",
    "    df.set_index(\"Description\", inplace=True)\n",
    "    df[\"Earth\"] = df[\"Earth\"].str.replace(\"\\t\", \"\")\n",
    "    comparison_table = df.to_html(classes=\"table table-striped\")\n",
    "\n",
    "    browser.quit()\n",
    "\n",
    "\n",
    "    # FINAL DICTIONARY FOR MONGO\n",
    "    \n",
    "    final_mars_data = {\n",
    "    \"latest_title\": latest_news_title,\n",
    "    \"latest_paragraph\" : latest_news_paragraph,\n",
    "    \"featured_image\": featured_image_url,\n",
    "    \"html_table\": comparison_table,\n",
    "    \"hemisphere_scrape\": hemisphere_image_urls,\n",
    "    \"title1\": title1,\n",
    "    \"title2\": title2,\n",
    "    \"title3\": title3,\n",
    "    \"title4\": title4,\n",
    "    \"image1\": image1,\n",
    "    \"image2\": image2,\n",
    "    \"image3\": image3,\n",
    "    \"image4\": image4,\n",
    "\n",
    "    }\n",
    "\n",
    "    return final_mars_data"
   ]
  }
 ],
 "metadata": {
  "kernelspec": {
   "display_name": "Python 3.9.6 64-bit",
   "language": "python",
   "name": "python3"
  },
  "language_info": {
   "codemirror_mode": {
    "name": "ipython",
    "version": 3
   },
   "file_extension": ".py",
   "mimetype": "text/x-python",
   "name": "python",
   "nbconvert_exporter": "python",
   "pygments_lexer": "ipython3",
   "version": "3.9.6"
  },
  "vscode": {
   "interpreter": {
    "hash": "31f2aee4e71d21fbe5cf8b01ff0e069b9275f58929596ceb00d14d90e3e16cd6"
   }
  }
 },
 "nbformat": 4,
 "nbformat_minor": 4
}
